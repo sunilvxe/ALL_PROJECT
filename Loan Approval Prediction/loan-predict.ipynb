{
 "cells": [
  {
   "cell_type": "code",
   "execution_count": 1,
   "id": "6f7fe678",
   "metadata": {
    "_cell_guid": "b1076dfc-b9ad-4769-8c92-a6c4dae69d19",
    "_uuid": "8f2839f25d086af736a60e9eeb907d3b93b6e0e5",
    "execution": {
     "iopub.execute_input": "2024-10-09T18:59:51.383628Z",
     "iopub.status.busy": "2024-10-09T18:59:51.383160Z",
     "iopub.status.idle": "2024-10-09T18:59:52.390931Z",
     "shell.execute_reply": "2024-10-09T18:59:52.389784Z"
    },
    "papermill": {
     "duration": 1.02038,
     "end_time": "2024-10-09T18:59:52.393518",
     "exception": false,
     "start_time": "2024-10-09T18:59:51.373138",
     "status": "completed"
    },
    "tags": []
   },
   "outputs": [
    {
     "name": "stdout",
     "output_type": "stream",
     "text": [
      "/kaggle/input/playground-series-s4e10/sample_submission.csv\n",
      "/kaggle/input/playground-series-s4e10/train.csv\n",
      "/kaggle/input/playground-series-s4e10/test.csv\n"
     ]
    }
   ],
   "source": [
    "# This Python 3 environment comes with many helpful analytics libraries installed\n",
    "# It is defined by the kaggle/python Docker image: https://github.com/kaggle/docker-python\n",
    "# For example, here's several helpful packages to load\n",
    "\n",
    "import numpy as np # linear algebra\n",
    "import pandas as pd # data processing, CSV file I/O (e.g. pd.read_csv)\n",
    "\n",
    "# Input data files are available in the read-only \"../input/\" directory\n",
    "# For example, running this (by clicking run or pressing Shift+Enter) will list all files under the input directory\n",
    "\n",
    "import os\n",
    "for dirname, _, filenames in os.walk('/kaggle/input'):\n",
    "    for filename in filenames:\n",
    "        print(os.path.join(dirname, filename))\n",
    "\n",
    "# You can write up to 20GB to the current directory (/kaggle/working/) that gets preserved as output when you create a version using \"Save & Run All\" \n",
    "# You can also write temporary files to /kaggle/temp/, but they won't be saved outside of the current session"
   ]
  },
  {
   "cell_type": "code",
   "execution_count": 2,
   "id": "65277746",
   "metadata": {
    "execution": {
     "iopub.execute_input": "2024-10-09T18:59:52.411344Z",
     "iopub.status.busy": "2024-10-09T18:59:52.410296Z",
     "iopub.status.idle": "2024-10-09T18:59:54.994378Z",
     "shell.execute_reply": "2024-10-09T18:59:54.993404Z"
    },
    "papermill": {
     "duration": 2.595904,
     "end_time": "2024-10-09T18:59:54.997310",
     "exception": false,
     "start_time": "2024-10-09T18:59:52.401406",
     "status": "completed"
    },
    "tags": []
   },
   "outputs": [],
   "source": [
    "# Importing essential libraries for data analysis and visualization\n",
    "import numpy as np  # NumPy: library for numerical operations, especially with arrays and matrices\n",
    "import pandas as pd  # Pandas: library for data manipulation and analysis, mainly using DataFrames\n",
    "import matplotlib.pyplot as plt  # Matplotlib: widely-used library for data visualization in Python\n",
    "import seaborn as sns  # Seaborn: statistical data visualization library built on top of Matplotlib\n",
    "\n",
    "# Importing Plotly libraries for interactive visualizations\n",
    "import plotly.express as px  # Plotly Express: a high-level interface for creating quick, simple, interactive plots\n",
    "import plotly.graph_objects as go  # Plotly Graph Objects: low-level interface for more complex and customized visualizations\n",
    "from plotly.subplots import make_subplots  # Function for creating subplot layouts with Plotly\n",
    "\n",
    "# Suppressing warnings to keep the output clean\n",
    "import warnings\n",
    "warnings.filterwarnings('ignore')  # Ignores all warnings that might be displayed during code execution\n"
   ]
  },
  {
   "cell_type": "code",
   "execution_count": 3,
   "id": "6fac7ae8",
   "metadata": {
    "execution": {
     "iopub.execute_input": "2024-10-09T18:59:55.016296Z",
     "iopub.status.busy": "2024-10-09T18:59:55.014965Z",
     "iopub.status.idle": "2024-10-09T18:59:55.270001Z",
     "shell.execute_reply": "2024-10-09T18:59:55.268740Z"
    },
    "papermill": {
     "duration": 0.267315,
     "end_time": "2024-10-09T18:59:55.272772",
     "exception": false,
     "start_time": "2024-10-09T18:59:55.005457",
     "status": "completed"
    },
    "tags": []
   },
   "outputs": [],
   "source": [
    "train = pd.read_csv('/kaggle/input/playground-series-s4e10/train.csv')\n",
    "test = pd.read_csv('/kaggle/input/playground-series-s4e10/test.csv')"
   ]
  },
  {
   "cell_type": "code",
   "execution_count": 4,
   "id": "c6121850",
   "metadata": {
    "execution": {
     "iopub.execute_input": "2024-10-09T18:59:55.290561Z",
     "iopub.status.busy": "2024-10-09T18:59:55.289530Z",
     "iopub.status.idle": "2024-10-09T18:59:55.333634Z",
     "shell.execute_reply": "2024-10-09T18:59:55.332552Z"
    },
    "papermill": {
     "duration": 0.055426,
     "end_time": "2024-10-09T18:59:55.335954",
     "exception": false,
     "start_time": "2024-10-09T18:59:55.280528",
     "status": "completed"
    },
    "tags": []
   },
   "outputs": [
    {
     "data": {
      "text/plain": [
       "id                            0\n",
       "person_age                    0\n",
       "person_income                 0\n",
       "person_home_ownership         0\n",
       "person_emp_length             0\n",
       "loan_intent                   0\n",
       "loan_grade                    0\n",
       "loan_amnt                     0\n",
       "loan_int_rate                 0\n",
       "loan_percent_income           0\n",
       "cb_person_default_on_file     0\n",
       "cb_person_cred_hist_length    0\n",
       "loan_status                   0\n",
       "dtype: int64"
      ]
     },
     "execution_count": 4,
     "metadata": {},
     "output_type": "execute_result"
    }
   ],
   "source": [
    "# Check for missing values in each column of the 'train' DataFrame\n",
    "train.isna().sum()  # Returns the count of missing values for each column\n"
   ]
  },
  {
   "cell_type": "code",
   "execution_count": 5,
   "id": "55a2fbc2",
   "metadata": {
    "execution": {
     "iopub.execute_input": "2024-10-09T18:59:55.354447Z",
     "iopub.status.busy": "2024-10-09T18:59:55.353543Z",
     "iopub.status.idle": "2024-10-09T18:59:55.380039Z",
     "shell.execute_reply": "2024-10-09T18:59:55.378961Z"
    },
    "papermill": {
     "duration": 0.038337,
     "end_time": "2024-10-09T18:59:55.382572",
     "exception": false,
     "start_time": "2024-10-09T18:59:55.344235",
     "status": "completed"
    },
    "tags": []
   },
   "outputs": [
    {
     "data": {
      "text/plain": [
       "id                            0\n",
       "person_age                    0\n",
       "person_income                 0\n",
       "person_home_ownership         0\n",
       "person_emp_length             0\n",
       "loan_intent                   0\n",
       "loan_grade                    0\n",
       "loan_amnt                     0\n",
       "loan_int_rate                 0\n",
       "loan_percent_income           0\n",
       "cb_person_default_on_file     0\n",
       "cb_person_cred_hist_length    0\n",
       "dtype: int64"
      ]
     },
     "execution_count": 5,
     "metadata": {},
     "output_type": "execute_result"
    }
   ],
   "source": [
    "# Check for missing values in each column of the 'test' DataFrame\n",
    "test.isna().sum()  # Returns the count of missing values for each column\n"
   ]
  },
  {
   "cell_type": "code",
   "execution_count": 6,
   "id": "978fd0e4",
   "metadata": {
    "execution": {
     "iopub.execute_input": "2024-10-09T18:59:55.402605Z",
     "iopub.status.busy": "2024-10-09T18:59:55.401840Z",
     "iopub.status.idle": "2024-10-09T18:59:59.560289Z",
     "shell.execute_reply": "2024-10-09T18:59:59.558970Z"
    },
    "papermill": {
     "duration": 4.172328,
     "end_time": "2024-10-09T18:59:59.563102",
     "exception": false,
     "start_time": "2024-10-09T18:59:55.390774",
     "status": "completed"
    },
    "tags": []
   },
   "outputs": [
    {
     "data": {
      "image/png": "[encoded data removed]",
      "text/plain": [
       "<Figure size 1000x600 with 1 Axes>"
      ]
     },
     "metadata": {},
     "output_type": "display_data"
    }
   ],
   "source": [
    "\n",
    "\n",
    "# Setting a Seaborn theme for better aesthetics\n",
    "sns.set_theme(style='whitegrid')\n",
    "\n",
    "# Creating a scatter plot with improved aesthetics\n",
    "plt.figure(figsize=(10, 6))  # Setting the figure size for better visualization\n",
    "sns.scatterplot(x='loan_amnt', y='loan_status', hue='loan_status', data=train, \n",
    "                palette='viridis', s=100, alpha=0.7, edgecolor='k')\n",
    "\n",
    "# Adding titles and labels\n",
    "plt.title('Scatter Plot of Loan Amount vs Loan Status', fontsize=14)\n",
    "plt.xlabel('Loan Amount', fontsize=12)\n",
    "plt.ylabel('Loan Status', fontsize=12)\n",
    "\n",
    "# Display the plot\n",
    "plt.tight_layout()  # Adjust the plot to make sure everything fits well\n",
    "plt.show()\n"
   ]
  },
  {
   "cell_type": "code",
   "execution_count": 7,
   "id": "3a252264",
   "metadata": {
    "execution": {
     "iopub.execute_input": "2024-10-09T18:59:59.585719Z",
     "iopub.status.busy": "2024-10-09T18:59:59.584702Z",
     "iopub.status.idle": "2024-10-09T18:59:59.589821Z",
     "shell.execute_reply": "2024-10-09T18:59:59.588780Z"
    },
    "papermill": {
     "duration": 0.01824,
     "end_time": "2024-10-09T18:59:59.592118",
     "exception": false,
     "start_time": "2024-10-09T18:59:59.573878",
     "status": "completed"
    },
    "tags": []
   },
   "outputs": [],
   "source": [
    "target = train['loan_status']"
   ]
  },
  {
   "cell_type": "code",
   "execution_count": 8,
   "id": "1dd817db",
   "metadata": {
    "execution": {
     "iopub.execute_input": "2024-10-09T18:59:59.613594Z",
     "iopub.status.busy": "2024-10-09T18:59:59.612790Z",
     "iopub.status.idle": "2024-10-09T18:59:59.630352Z",
     "shell.execute_reply": "2024-10-09T18:59:59.629210Z"
    },
    "papermill": {
     "duration": 0.031466,
     "end_time": "2024-10-09T18:59:59.633135",
     "exception": false,
     "start_time": "2024-10-09T18:59:59.601669",
     "status": "completed"
    },
    "tags": []
   },
   "outputs": [
    {
     "data": {
      "text/plain": [
       "['person_age',\n",
       " 'person_income',\n",
       " 'person_emp_length',\n",
       " 'loan_amnt',\n",
       " 'loan_int_rate',\n",
       " 'loan_percent_income',\n",
       " 'cb_person_cred_hist_length']"
      ]
     },
     "execution_count": 8,
     "metadata": {},
     "output_type": "execute_result"
    }
   ],
   "source": [
    "# Dropping the 'id' and 'loan_status' columns from the 'train' DataFrame, modifying it in place\n",
    "train.drop(columns=['id', 'loan_status'], inplace=True)  \n",
    "\n",
    "# Selecting only the numerical columns (of types int64 and float64) from the modified 'train' DataFrame\n",
    "numerical_columns = train.select_dtypes(include=['int64', 'float64']).columns\n",
    "\n",
    "# Converting the numerical columns into a list\n",
    "numerical_columns = list(numerical_columns)\n",
    "\n",
    "# Displaying the list of numerical column names\n",
    "numerical_columns\n"
   ]
  },
  {
   "cell_type": "code",
   "execution_count": 9,
   "id": "a114a0a9",
   "metadata": {
    "execution": {
     "iopub.execute_input": "2024-10-09T18:59:59.654430Z",
     "iopub.status.busy": "2024-10-09T18:59:59.653692Z",
     "iopub.status.idle": "2024-10-09T18:59:59.666728Z",
     "shell.execute_reply": "2024-10-09T18:59:59.665596Z"
    },
    "papermill": {
     "duration": 0.026658,
     "end_time": "2024-10-09T18:59:59.669404",
     "exception": false,
     "start_time": "2024-10-09T18:59:59.642746",
     "status": "completed"
    },
    "tags": []
   },
   "outputs": [
    {
     "data": {
      "text/plain": [
       "['person_age',\n",
       " 'person_income',\n",
       " 'person_emp_length',\n",
       " 'loan_amnt',\n",
       " 'loan_int_rate',\n",
       " 'loan_percent_income',\n",
       " 'cb_person_cred_hist_length']"
      ]
     },
     "execution_count": 9,
     "metadata": {},
     "output_type": "execute_result"
    }
   ],
   "source": [
    "# Dropping the 'id' column from the 'test' DataFrame, modifying it in place\n",
    "test.drop(columns=['id'], inplace=True)  \n",
    "\n",
    "# Selecting only the numerical columns (of types int64 and float64) from the modified 'test' DataFrame\n",
    "test_numerical_columns = test.select_dtypes(include=['int64', 'float64']).columns\n",
    "\n",
    "# Converting the numerical columns into a list\n",
    "test_numerical_columns = list(test_numerical_columns)\n",
    "\n",
    "# Displaying the list of numerical column names from the 'test' DataFrame\n",
    "test_numerical_columns\n"
   ]
  },
  {
   "cell_type": "code",
   "execution_count": 10,
   "id": "7e4c2972",
   "metadata": {
    "execution": {
     "iopub.execute_input": "2024-10-09T18:59:59.690363Z",
     "iopub.status.busy": "2024-10-09T18:59:59.689965Z",
     "iopub.status.idle": "2024-10-09T18:59:59.700524Z",
     "shell.execute_reply": "2024-10-09T18:59:59.699433Z"
    },
    "papermill": {
     "duration": 0.023759,
     "end_time": "2024-10-09T18:59:59.702922",
     "exception": false,
     "start_time": "2024-10-09T18:59:59.679163",
     "status": "completed"
    },
    "tags": []
   },
   "outputs": [
    {
     "data": {
      "text/plain": [
       "['person_home_ownership',\n",
       " 'loan_intent',\n",
       " 'loan_grade',\n",
       " 'cb_person_default_on_file']"
      ]
     },
     "execution_count": 10,
     "metadata": {},
     "output_type": "execute_result"
    }
   ],
   "source": [
    "# Selecting only the categorical columns (of type 'object') from the 'train' DataFrame\n",
    "categorical_columns = train.select_dtypes(include=['object']).columns\n",
    "\n",
    "# Converting the categorical columns into a list\n",
    "categorical_columns = list(categorical_columns)\n",
    "\n",
    "# Displaying the list of categorical column names\n",
    "categorical_columns\n"
   ]
  },
  {
   "cell_type": "code",
   "execution_count": 11,
   "id": "81738519",
   "metadata": {
    "execution": {
     "iopub.execute_input": "2024-10-09T18:59:59.725820Z",
     "iopub.status.busy": "2024-10-09T18:59:59.724721Z",
     "iopub.status.idle": "2024-10-09T18:59:59.735375Z",
     "shell.execute_reply": "2024-10-09T18:59:59.734153Z"
    },
    "papermill": {
     "duration": 0.024917,
     "end_time": "2024-10-09T18:59:59.737774",
     "exception": false,
     "start_time": "2024-10-09T18:59:59.712857",
     "status": "completed"
    },
    "tags": []
   },
   "outputs": [
    {
     "data": {
      "text/plain": [
       "['person_home_ownership',\n",
       " 'loan_intent',\n",
       " 'loan_grade',\n",
       " 'cb_person_default_on_file']"
      ]
     },
     "execution_count": 11,
     "metadata": {},
     "output_type": "execute_result"
    }
   ],
   "source": [
    "# Selecting only the categorical columns (of type 'object') from the 'test' DataFrame\n",
    "test_categorical_columns = test.select_dtypes(include=['object']).columns\n",
    "\n",
    "# Converting the categorical columns into a list\n",
    "test_categorical_columns = list(test_categorical_columns)\n",
    "\n",
    "# Displaying the list of categorical column names from the 'test' DataFrame\n",
    "test_categorical_columns\n"
   ]
  },
  {
   "cell_type": "markdown",
   "id": "78f8e6d4",
   "metadata": {
    "papermill": {
     "duration": 0.009603,
     "end_time": "2024-10-09T18:59:59.757440",
     "exception": false,
     "start_time": "2024-10-09T18:59:59.747837",
     "status": "completed"
    },
    "tags": []
   },
   "source": [
    "**ENCODING**\n"
   ]
  },
  {
   "cell_type": "code",
   "execution_count": 12,
   "id": "33fe88bf",
   "metadata": {
    "execution": {
     "iopub.execute_input": "2024-10-09T18:59:59.779686Z",
     "iopub.status.busy": "2024-10-09T18:59:59.779270Z",
     "iopub.status.idle": "2024-10-09T18:59:59.952775Z",
     "shell.execute_reply": "2024-10-09T18:59:59.951531Z"
    },
    "papermill": {
     "duration": 0.188193,
     "end_time": "2024-10-09T18:59:59.955618",
     "exception": false,
     "start_time": "2024-10-09T18:59:59.767425",
     "status": "completed"
    },
    "tags": []
   },
   "outputs": [],
   "source": [
    "# Importing LabelEncoder from scikit-learn for encoding categorical labels into numerical format\n",
    "from sklearn.preprocessing import LabelEncoder  \n",
    "\n",
    "# Importing MinMaxScaler from scikit-learn for scaling features to a range (0 to 1)\n",
    "from sklearn.preprocessing import MinMaxScaler  \n",
    "\n",
    "# Importing OneHotEncoder from scikit-learn for converting categorical variables into a one-hot encoded format\n",
    "from sklearn.preprocessing import OneHotEncoder  \n"
   ]
  },
  {
   "cell_type": "code",
   "execution_count": 13,
   "id": "05525962",
   "metadata": {
    "execution": {
     "iopub.execute_input": "2024-10-09T18:59:59.977652Z",
     "iopub.status.busy": "2024-10-09T18:59:59.977196Z",
     "iopub.status.idle": "2024-10-09T19:00:00.393211Z",
     "shell.execute_reply": "2024-10-09T19:00:00.392095Z"
    },
    "papermill": {
     "duration": 0.43037,
     "end_time": "2024-10-09T19:00:00.396178",
     "exception": false,
     "start_time": "2024-10-09T18:59:59.965808",
     "status": "completed"
    },
    "tags": []
   },
   "outputs": [
    {
     "data": {
      "text/html": [
       "<div>\n",
       "<style scoped>\n",
       "    .dataframe tbody tr th:only-of-type {\n",
       "        vertical-align: middle;\n",
       "    }\n",
       "\n",
       "    .dataframe tbody tr th {\n",
       "        vertical-align: top;\n",
       "    }\n",
       "\n",
       "    .dataframe thead th {\n",
       "        text-align: right;\n",
       "    }\n",
       "</style>\n",
       "<table border=\"1\" class=\"dataframe\">\n",
       "  <thead>\n",
       "    <tr style=\"text-align: right;\">\n",
       "      <th></th>\n",
       "      <th>person_age</th>\n",
       "      <th>person_income</th>\n",
       "      <th>person_emp_length</th>\n",
       "      <th>loan_amnt</th>\n",
       "      <th>loan_int_rate</th>\n",
       "      <th>loan_percent_income</th>\n",
       "      <th>cb_person_cred_hist_length</th>\n",
       "      <th>person_home_ownership_MORTGAGE</th>\n",
       "      <th>person_home_ownership_OTHER</th>\n",
       "      <th>person_home_ownership_OWN</th>\n",
       "      <th>...</th>\n",
       "      <th>loan_intent_VENTURE</th>\n",
       "      <th>loan_grade_A</th>\n",
       "      <th>loan_grade_B</th>\n",
       "      <th>loan_grade_C</th>\n",
       "      <th>loan_grade_D</th>\n",
       "      <th>loan_grade_E</th>\n",
       "      <th>loan_grade_F</th>\n",
       "      <th>loan_grade_G</th>\n",
       "      <th>cb_person_default_on_file_N</th>\n",
       "      <th>cb_person_default_on_file_Y</th>\n",
       "    </tr>\n",
       "  </thead>\n",
       "  <tbody>\n",
       "    <tr>\n",
       "      <th>0</th>\n",
       "      <td>0.029126</td>\n",
       "      <td>0.034181</td>\n",
       "      <td>0.024390</td>\n",
       "      <td>0.710145</td>\n",
       "      <td>0.580899</td>\n",
       "      <td>0.433735</td>\n",
       "      <td>0.000000</td>\n",
       "      <td>0.0</td>\n",
       "      <td>0.0</td>\n",
       "      <td>0.0</td>\n",
       "      <td>...</td>\n",
       "      <td>0.0</td>\n",
       "      <td>0.0</td>\n",
       "      <td>0.0</td>\n",
       "      <td>0.0</td>\n",
       "      <td>0.0</td>\n",
       "      <td>0.0</td>\n",
       "      <td>1.0</td>\n",
       "      <td>0.0</td>\n",
       "      <td>1.0</td>\n",
       "      <td>0.0</td>\n",
       "    </tr>\n",
       "    <tr>\n",
       "      <th>1</th>\n",
       "      <td>0.058252</td>\n",
       "      <td>0.048423</td>\n",
       "      <td>0.048780</td>\n",
       "      <td>0.275362</td>\n",
       "      <td>0.407865</td>\n",
       "      <td>0.120482</td>\n",
       "      <td>0.071429</td>\n",
       "      <td>1.0</td>\n",
       "      <td>0.0</td>\n",
       "      <td>0.0</td>\n",
       "      <td>...</td>\n",
       "      <td>0.0</td>\n",
       "      <td>0.0</td>\n",
       "      <td>0.0</td>\n",
       "      <td>1.0</td>\n",
       "      <td>0.0</td>\n",
       "      <td>0.0</td>\n",
       "      <td>0.0</td>\n",
       "      <td>0.0</td>\n",
       "      <td>0.0</td>\n",
       "      <td>1.0</td>\n",
       "    </tr>\n",
       "    <tr>\n",
       "      <th>2</th>\n",
       "      <td>0.058252</td>\n",
       "      <td>0.013609</td>\n",
       "      <td>0.040650</td>\n",
       "      <td>0.101449</td>\n",
       "      <td>0.661236</td>\n",
       "      <td>0.156627</td>\n",
       "      <td>0.000000</td>\n",
       "      <td>0.0</td>\n",
       "      <td>0.0</td>\n",
       "      <td>0.0</td>\n",
       "      <td>...</td>\n",
       "      <td>1.0</td>\n",
       "      <td>0.0</td>\n",
       "      <td>0.0</td>\n",
       "      <td>0.0</td>\n",
       "      <td>0.0</td>\n",
       "      <td>1.0</td>\n",
       "      <td>0.0</td>\n",
       "      <td>0.0</td>\n",
       "      <td>0.0</td>\n",
       "      <td>1.0</td>\n",
       "    </tr>\n",
       "    <tr>\n",
       "      <th>3</th>\n",
       "      <td>0.126214</td>\n",
       "      <td>0.024159</td>\n",
       "      <td>0.032520</td>\n",
       "      <td>0.188406</td>\n",
       "      <td>0.195506</td>\n",
       "      <td>0.168675</td>\n",
       "      <td>0.178571</td>\n",
       "      <td>0.0</td>\n",
       "      <td>0.0</td>\n",
       "      <td>0.0</td>\n",
       "      <td>...</td>\n",
       "      <td>0.0</td>\n",
       "      <td>1.0</td>\n",
       "      <td>0.0</td>\n",
       "      <td>0.0</td>\n",
       "      <td>0.0</td>\n",
       "      <td>0.0</td>\n",
       "      <td>0.0</td>\n",
       "      <td>0.0</td>\n",
       "      <td>1.0</td>\n",
       "      <td>0.0</td>\n",
       "    </tr>\n",
       "    <tr>\n",
       "      <th>4</th>\n",
       "      <td>0.058252</td>\n",
       "      <td>0.051588</td>\n",
       "      <td>0.065041</td>\n",
       "      <td>0.420290</td>\n",
       "      <td>0.612360</td>\n",
       "      <td>0.180723</td>\n",
       "      <td>0.071429</td>\n",
       "      <td>1.0</td>\n",
       "      <td>0.0</td>\n",
       "      <td>0.0</td>\n",
       "      <td>...</td>\n",
       "      <td>0.0</td>\n",
       "      <td>0.0</td>\n",
       "      <td>0.0</td>\n",
       "      <td>0.0</td>\n",
       "      <td>1.0</td>\n",
       "      <td>0.0</td>\n",
       "      <td>0.0</td>\n",
       "      <td>0.0</td>\n",
       "      <td>0.0</td>\n",
       "      <td>1.0</td>\n",
       "    </tr>\n",
       "    <tr>\n",
       "      <th>...</th>\n",
       "      <td>...</td>\n",
       "      <td>...</td>\n",
       "      <td>...</td>\n",
       "      <td>...</td>\n",
       "      <td>...</td>\n",
       "      <td>...</td>\n",
       "      <td>...</td>\n",
       "      <td>...</td>\n",
       "      <td>...</td>\n",
       "      <td>...</td>\n",
       "      <td>...</td>\n",
       "      <td>...</td>\n",
       "      <td>...</td>\n",
       "      <td>...</td>\n",
       "      <td>...</td>\n",
       "      <td>...</td>\n",
       "      <td>...</td>\n",
       "      <td>...</td>\n",
       "      <td>...</td>\n",
       "      <td>...</td>\n",
       "      <td>...</td>\n",
       "    </tr>\n",
       "    <tr>\n",
       "      <th>39093</th>\n",
       "      <td>0.019417</td>\n",
       "      <td>0.014242</td>\n",
       "      <td>0.016260</td>\n",
       "      <td>0.072464</td>\n",
       "      <td>0.278090</td>\n",
       "      <td>0.120482</td>\n",
       "      <td>0.071429</td>\n",
       "      <td>1.0</td>\n",
       "      <td>0.0</td>\n",
       "      <td>0.0</td>\n",
       "      <td>...</td>\n",
       "      <td>0.0</td>\n",
       "      <td>0.0</td>\n",
       "      <td>1.0</td>\n",
       "      <td>0.0</td>\n",
       "      <td>0.0</td>\n",
       "      <td>0.0</td>\n",
       "      <td>0.0</td>\n",
       "      <td>0.0</td>\n",
       "      <td>1.0</td>\n",
       "      <td>0.0</td>\n",
       "    </tr>\n",
       "    <tr>\n",
       "      <th>39094</th>\n",
       "      <td>0.019417</td>\n",
       "      <td>0.023104</td>\n",
       "      <td>0.048780</td>\n",
       "      <td>0.188406</td>\n",
       "      <td>0.034270</td>\n",
       "      <td>0.180723</td>\n",
       "      <td>0.035714</td>\n",
       "      <td>1.0</td>\n",
       "      <td>0.0</td>\n",
       "      <td>0.0</td>\n",
       "      <td>...</td>\n",
       "      <td>0.0</td>\n",
       "      <td>1.0</td>\n",
       "      <td>0.0</td>\n",
       "      <td>0.0</td>\n",
       "      <td>0.0</td>\n",
       "      <td>0.0</td>\n",
       "      <td>0.0</td>\n",
       "      <td>0.0</td>\n",
       "      <td>1.0</td>\n",
       "      <td>0.0</td>\n",
       "    </tr>\n",
       "    <tr>\n",
       "      <th>39095</th>\n",
       "      <td>0.300971</td>\n",
       "      <td>0.029433</td>\n",
       "      <td>0.000000</td>\n",
       "      <td>0.420290</td>\n",
       "      <td>0.117416</td>\n",
       "      <td>0.301205</td>\n",
       "      <td>0.821429</td>\n",
       "      <td>1.0</td>\n",
       "      <td>0.0</td>\n",
       "      <td>0.0</td>\n",
       "      <td>...</td>\n",
       "      <td>0.0</td>\n",
       "      <td>1.0</td>\n",
       "      <td>0.0</td>\n",
       "      <td>0.0</td>\n",
       "      <td>0.0</td>\n",
       "      <td>0.0</td>\n",
       "      <td>0.0</td>\n",
       "      <td>0.0</td>\n",
       "      <td>1.0</td>\n",
       "      <td>0.0</td>\n",
       "    </tr>\n",
       "    <tr>\n",
       "      <th>39096</th>\n",
       "      <td>0.019417</td>\n",
       "      <td>0.016774</td>\n",
       "      <td>0.032520</td>\n",
       "      <td>0.391304</td>\n",
       "      <td>0.573034</td>\n",
       "      <td>0.469880</td>\n",
       "      <td>0.071429</td>\n",
       "      <td>1.0</td>\n",
       "      <td>0.0</td>\n",
       "      <td>0.0</td>\n",
       "      <td>...</td>\n",
       "      <td>0.0</td>\n",
       "      <td>0.0</td>\n",
       "      <td>0.0</td>\n",
       "      <td>0.0</td>\n",
       "      <td>1.0</td>\n",
       "      <td>0.0</td>\n",
       "      <td>0.0</td>\n",
       "      <td>0.0</td>\n",
       "      <td>0.0</td>\n",
       "      <td>1.0</td>\n",
       "    </tr>\n",
       "    <tr>\n",
       "      <th>39097</th>\n",
       "      <td>0.106796</td>\n",
       "      <td>0.021521</td>\n",
       "      <td>0.048780</td>\n",
       "      <td>0.549275</td>\n",
       "      <td>0.252247</td>\n",
       "      <td>0.530120</td>\n",
       "      <td>0.250000</td>\n",
       "      <td>0.0</td>\n",
       "      <td>0.0</td>\n",
       "      <td>0.0</td>\n",
       "      <td>...</td>\n",
       "      <td>0.0</td>\n",
       "      <td>0.0</td>\n",
       "      <td>1.0</td>\n",
       "      <td>0.0</td>\n",
       "      <td>0.0</td>\n",
       "      <td>0.0</td>\n",
       "      <td>0.0</td>\n",
       "      <td>0.0</td>\n",
       "      <td>1.0</td>\n",
       "      <td>0.0</td>\n",
       "    </tr>\n",
       "  </tbody>\n",
       "</table>\n",
       "<p>39098 rows × 26 columns</p>\n",
       "</div>"
      ],
      "text/plain": [
       "       person_age  person_income  person_emp_length  loan_amnt  loan_int_rate  \\\n",
       "0        0.029126       0.034181           0.024390   0.710145       0.580899   \n",
       "1        0.058252       0.048423           0.048780   0.275362       0.407865   \n",
       "2        0.058252       0.013609           0.040650   0.101449       0.661236   \n",
       "3        0.126214       0.024159           0.032520   0.188406       0.195506   \n",
       "4        0.058252       0.051588           0.065041   0.420290       0.612360   \n",
       "...           ...            ...                ...        ...            ...   \n",
       "39093    0.019417       0.014242           0.016260   0.072464       0.278090   \n",
       "39094    0.019417       0.023104           0.048780   0.188406       0.034270   \n",
       "39095    0.300971       0.029433           0.000000   0.420290       0.117416   \n",
       "39096    0.019417       0.016774           0.032520   0.391304       0.573034   \n",
       "39097    0.106796       0.021521           0.048780   0.549275       0.252247   \n",
       "\n",
       "       loan_percent_income  cb_person_cred_hist_length  \\\n",
       "0                 0.433735                    0.000000   \n",
       "1                 0.120482                    0.071429   \n",
       "2                 0.156627                    0.000000   \n",
       "3                 0.168675                    0.178571   \n",
       "4                 0.180723                    0.071429   \n",
       "...                    ...                         ...   \n",
       "39093             0.120482                    0.071429   \n",
       "39094             0.180723                    0.035714   \n",
       "39095             0.301205                    0.821429   \n",
       "39096             0.469880                    0.071429   \n",
       "39097             0.530120                    0.250000   \n",
       "\n",
       "       person_home_ownership_MORTGAGE  person_home_ownership_OTHER  \\\n",
       "0                                 0.0                          0.0   \n",
       "1                                 1.0                          0.0   \n",
       "2                                 0.0                          0.0   \n",
       "3                                 0.0                          0.0   \n",
       "4                                 1.0                          0.0   \n",
       "...                               ...                          ...   \n",
       "39093                             1.0                          0.0   \n",
       "39094                             1.0                          0.0   \n",
       "39095                             1.0                          0.0   \n",
       "39096                             1.0                          0.0   \n",
       "39097                             0.0                          0.0   \n",
       "\n",
       "       person_home_ownership_OWN  ...  loan_intent_VENTURE  loan_grade_A  \\\n",
       "0                            0.0  ...                  0.0           0.0   \n",
       "1                            0.0  ...                  0.0           0.0   \n",
       "2                            0.0  ...                  1.0           0.0   \n",
       "3                            0.0  ...                  0.0           1.0   \n",
       "4                            0.0  ...                  0.0           0.0   \n",
       "...                          ...  ...                  ...           ...   \n",
       "39093                        0.0  ...                  0.0           0.0   \n",
       "39094                        0.0  ...                  0.0           1.0   \n",
       "39095                        0.0  ...                  0.0           1.0   \n",
       "39096                        0.0  ...                  0.0           0.0   \n",
       "39097                        0.0  ...                  0.0           0.0   \n",
       "\n",
       "       loan_grade_B  loan_grade_C  loan_grade_D  loan_grade_E  loan_grade_F  \\\n",
       "0               0.0           0.0           0.0           0.0           1.0   \n",
       "1               0.0           1.0           0.0           0.0           0.0   \n",
       "2               0.0           0.0           0.0           1.0           0.0   \n",
       "3               0.0           0.0           0.0           0.0           0.0   \n",
       "4               0.0           0.0           1.0           0.0           0.0   \n",
       "...             ...           ...           ...           ...           ...   \n",
       "39093           1.0           0.0           0.0           0.0           0.0   \n",
       "39094           0.0           0.0           0.0           0.0           0.0   \n",
       "39095           0.0           0.0           0.0           0.0           0.0   \n",
       "39096           0.0           0.0           1.0           0.0           0.0   \n",
       "39097           1.0           0.0           0.0           0.0           0.0   \n",
       "\n",
       "       loan_grade_G  cb_person_default_on_file_N  cb_person_default_on_file_Y  \n",
       "0               0.0                          1.0                          0.0  \n",
       "1               0.0                          0.0                          1.0  \n",
       "2               0.0                          0.0                          1.0  \n",
       "3               0.0                          1.0                          0.0  \n",
       "4               0.0                          0.0                          1.0  \n",
       "...             ...                          ...                          ...  \n",
       "39093           0.0                          1.0                          0.0  \n",
       "39094           0.0                          1.0                          0.0  \n",
       "39095           0.0                          1.0                          0.0  \n",
       "39096           0.0                          0.0                          1.0  \n",
       "39097           0.0                          1.0                          0.0  \n",
       "\n",
       "[39098 rows x 26 columns]"
      ]
     },
     "execution_count": 13,
     "metadata": {},
     "output_type": "execute_result"
    }
   ],
   "source": [
    "# Initializing and fitting the MinMaxScaler to the numerical columns of the 'train' DataFrame\n",
    "scaler = MinMaxScaler().fit(train[numerical_columns])  \n",
    "\n",
    "# Applying the fitted MinMaxScaler to transform the numerical columns in the 'train' DataFrame\n",
    "train[numerical_columns] = scaler.transform(train[numerical_columns])  \n",
    "\n",
    "# Applying the same transformation to the numerical columns in the 'test' DataFrame\n",
    "test[numerical_columns] = scaler.transform(test[numerical_columns])  \n",
    "\n",
    "# Initializing and fitting the OneHotEncoder to the categorical columns of the 'train' DataFrame\n",
    "encoder = OneHotEncoder(sparse_output=False, handle_unknown='ignore').fit(train[categorical_columns])  \n",
    "\n",
    "# Transforming the categorical columns in the 'train' DataFrame using the fitted OneHotEncoder\n",
    "encoded_cols = encoder.transform(train[categorical_columns])  \n",
    "\n",
    "# Getting the feature names resulting from the one-hot encoding and converting them into a list\n",
    "encoded_cols = list(encoder.get_feature_names_out(categorical_columns))  \n",
    "\n",
    "# Assigning the one-hot encoded columns back to the 'train' DataFrame\n",
    "train[encoded_cols] = encoder.transform(train[categorical_columns])  \n",
    "\n",
    "# Assigning the same one-hot encoded columns to the 'test' DataFrame\n",
    "test[encoded_cols] = encoder.transform(test[categorical_columns])  \n",
    "\n",
    "# Creating the feature set 'X' for training by combining numerical columns and one-hot encoded columns from the 'train' DataFrame\n",
    "X = train[numerical_columns + encoded_cols]  \n",
    "\n",
    "# Creating the feature set 'X_test' for testing by combining numerical columns and one-hot encoded columns from the 'test' DataFrame\n",
    "X_test = test[numerical_columns + encoded_cols]  \n",
    "\n",
    "X_test\n"
   ]
  },
  {
   "cell_type": "markdown",
   "id": "767f6d6c",
   "metadata": {
    "papermill": {
     "duration": 0.010843,
     "end_time": "2024-10-09T19:00:00.418306",
     "exception": false,
     "start_time": "2024-10-09T19:00:00.407463",
     "status": "completed"
    },
    "tags": []
   },
   "source": [
    "**GRADIANT_BOOSTING**"
   ]
  },
  {
   "cell_type": "code",
   "execution_count": 14,
   "id": "77c9cb20",
   "metadata": {
    "execution": {
     "iopub.execute_input": "2024-10-09T19:00:00.441717Z",
     "iopub.status.busy": "2024-10-09T19:00:00.441282Z",
     "iopub.status.idle": "2024-10-09T19:02:03.792305Z",
     "shell.execute_reply": "2024-10-09T19:02:03.790970Z"
    },
    "papermill": {
     "duration": 123.376253,
     "end_time": "2024-10-09T19:02:03.805305",
     "exception": false,
     "start_time": "2024-10-09T19:00:00.429052",
     "status": "completed"
    },
    "tags": []
   },
   "outputs": [
    {
     "data": {
      "text/html": [
       "<style>#sk-container-id-1 {color: black;background-color: white;}#sk-container-id-1 pre{padding: 0;}#sk-container-id-1 div.sk-toggleable {background-color: white;}#sk-container-id-1 label.sk-toggleable__label {cursor: pointer;display: block;width: 100%;margin-bottom: 0;padding: 0.3em;box-sizing: border-box;text-align: center;}#sk-container-id-1 label.sk-toggleable__label-arrow:before {content: \"▸\";float: left;margin-right: 0.25em;color: #696969;}#sk-container-id-1 label.sk-toggleable__label-arrow:hover:before {color: black;}#sk-container-id-1 div.sk-estimator:hover label.sk-toggleable__label-arrow:before {color: black;}#sk-container-id-1 div.sk-toggleable__content {max-height: 0;max-width: 0;overflow: hidden;text-align: left;background-color: #f0f8ff;}#sk-container-id-1 div.sk-toggleable__content pre {margin: 0.2em;color: black;border-radius: 0.25em;background-color: #f0f8ff;}#sk-container-id-1 input.sk-toggleable__control:checked~div.sk-toggleable__content {max-height: 200px;max-width: 100%;overflow: auto;}#sk-container-id-1 input.sk-toggleable__control:checked~label.sk-toggleable__label-arrow:before {content: \"▾\";}#sk-container-id-1 div.sk-estimator input.sk-toggleable__control:checked~label.sk-toggleable__label {background-color: #d4ebff;}#sk-container-id-1 div.sk-label input.sk-toggleable__control:checked~label.sk-toggleable__label {background-color: #d4ebff;}#sk-container-id-1 input.sk-hidden--visually {border: 0;clip: rect(1px 1px 1px 1px);clip: rect(1px, 1px, 1px, 1px);height: 1px;margin: -1px;overflow: hidden;padding: 0;position: absolute;width: 1px;}#sk-container-id-1 div.sk-estimator {font-family: monospace;background-color: #f0f8ff;border: 1px dotted black;border-radius: 0.25em;box-sizing: border-box;margin-bottom: 0.5em;}#sk-container-id-1 div.sk-estimator:hover {background-color: #d4ebff;}#sk-container-id-1 div.sk-parallel-item::after {content: \"\";width: 100%;border-bottom: 1px solid gray;flex-grow: 1;}#sk-container-id-1 div.sk-label:hover label.sk-toggleable__label {background-color: #d4ebff;}#sk-container-id-1 div.sk-serial::before {content: \"\";position: absolute;border-left: 1px solid gray;box-sizing: border-box;top: 0;bottom: 0;left: 50%;z-index: 0;}#sk-container-id-1 div.sk-serial {display: flex;flex-direction: column;align-items: center;background-color: white;padding-right: 0.2em;padding-left: 0.2em;position: relative;}#sk-container-id-1 div.sk-item {position: relative;z-index: 1;}#sk-container-id-1 div.sk-parallel {display: flex;align-items: stretch;justify-content: center;background-color: white;position: relative;}#sk-container-id-1 div.sk-item::before, #sk-container-id-1 div.sk-parallel-item::before {content: \"\";position: absolute;border-left: 1px solid gray;box-sizing: border-box;top: 0;bottom: 0;left: 50%;z-index: -1;}#sk-container-id-1 div.sk-parallel-item {display: flex;flex-direction: column;z-index: 1;position: relative;background-color: white;}#sk-container-id-1 div.sk-parallel-item:first-child::after {align-self: flex-end;width: 50%;}#sk-container-id-1 div.sk-parallel-item:last-child::after {align-self: flex-start;width: 50%;}#sk-container-id-1 div.sk-parallel-item:only-child::after {width: 0;}#sk-container-id-1 div.sk-dashed-wrapped {border: 1px dashed gray;margin: 0 0.4em 0.5em 0.4em;box-sizing: border-box;padding-bottom: 0.4em;background-color: white;}#sk-container-id-1 div.sk-label label {font-family: monospace;font-weight: bold;display: inline-block;line-height: 1.2em;}#sk-container-id-1 div.sk-label-container {text-align: center;}#sk-container-id-1 div.sk-container {/* jupyter's `normalize.less` sets `[hidden] { display: none; }` but bootstrap.min.css set `[hidden] { display: none !important; }` so we also need the `!important` here to be able to override the default hidden behavior on the sphinx rendered scikit-learn.org. See: https://github.com/scikit-learn/scikit-learn/issues/21755 */display: inline-block !important;position: relative;}#sk-container-id-1 div.sk-text-repr-fallback {display: none;}</style><div id=\"sk-container-id-1\" class=\"sk-top-container\"><div class=\"sk-text-repr-fallback\"><pre>GradientBoostingClassifier(learning_rate=0.5, max_depth=10, n_estimators=500,\n",
       "                           random_state=42)</pre><b>In a Jupyter environment, please rerun this cell to show the HTML representation or trust the notebook. <br />On GitHub, the HTML representation is unable to render, please try loading this page with nbviewer.org.</b></div><div class=\"sk-container\" hidden><div class=\"sk-item\"><div class=\"sk-estimator sk-toggleable\"><input class=\"sk-toggleable__control sk-hidden--visually\" id=\"sk-estimator-id-1\" type=\"checkbox\" checked><label for=\"sk-estimator-id-1\" class=\"sk-toggleable__label sk-toggleable__label-arrow\">GradientBoostingClassifier</label><div class=\"sk-toggleable__content\"><pre>GradientBoostingClassifier(learning_rate=0.5, max_depth=10, n_estimators=500,\n",
       "                           random_state=42)</pre></div></div></div></div></div>"
      ],
      "text/plain": [
       "GradientBoostingClassifier(learning_rate=0.5, max_depth=10, n_estimators=500,\n",
       "                           random_state=42)"
      ]
     },
     "execution_count": 14,
     "metadata": {},
     "output_type": "execute_result"
    }
   ],
   "source": [
    "# Importing the GradientBoostingClassifier from scikit-learn\n",
    "from sklearn.ensemble import GradientBoostingClassifier\n",
    "\n",
    "# Initializing the Gradient Boosting Classifier model with specified hyperparameters\n",
    "model1 = GradientBoostingClassifier(\n",
    "    n_estimators=500,        # Number of boosting stages to be run (trees)\n",
    "    learning_rate=0.5,       # Step size for each iteration, controlling the contribution of each tree\n",
    "    max_depth=10,            # Maximum depth of the individual regression estimators (trees)\n",
    "    random_state=42)         # Seed for reproducibility\n",
    "\n",
    "# Fitting the model to the training data (X) and target labels\n",
    "model1.fit(X, target)  \n"
   ]
  },
  {
   "cell_type": "code",
   "execution_count": 15,
   "id": "b00af13a",
   "metadata": {
    "execution": {
     "iopub.execute_input": "2024-10-09T19:02:03.828955Z",
     "iopub.status.busy": "2024-10-09T19:02:03.828512Z",
     "iopub.status.idle": "2024-10-09T19:02:05.103015Z",
     "shell.execute_reply": "2024-10-09T19:02:05.101992Z"
    },
    "papermill": {
     "duration": 1.289152,
     "end_time": "2024-10-09T19:02:05.105569",
     "exception": false,
     "start_time": "2024-10-09T19:02:03.816417",
     "status": "completed"
    },
    "tags": []
   },
   "outputs": [],
   "source": [
    "pred = model1.predict(X)"
   ]
  },
  {
   "cell_type": "code",
   "execution_count": 16,
   "id": "08ff4c1d",
   "metadata": {
    "execution": {
     "iopub.execute_input": "2024-10-09T19:02:05.129260Z",
     "iopub.status.busy": "2024-10-09T19:02:05.128824Z",
     "iopub.status.idle": "2024-10-09T19:02:05.143047Z",
     "shell.execute_reply": "2024-10-09T19:02:05.141884Z"
    },
    "papermill": {
     "duration": 0.028615,
     "end_time": "2024-10-09T19:02:05.145266",
     "exception": false,
     "start_time": "2024-10-09T19:02:05.116651",
     "status": "completed"
    },
    "tags": []
   },
   "outputs": [
    {
     "data": {
      "text/plain": [
       "1.0"
      ]
     },
     "execution_count": 16,
     "metadata": {},
     "output_type": "execute_result"
    }
   ],
   "source": [
    "# Importing the accuracy_score function from scikit-learn metrics\n",
    "from sklearn.metrics import accuracy_score\n",
    "\n",
    "# Calculating the accuracy of the model's predictions\n",
    "accuracy = accuracy_score(target, pred)  \n",
    "\n",
    "# Displaying the accuracy score\n",
    "accuracy\n"
   ]
  },
  {
   "cell_type": "code",
   "execution_count": 17,
   "id": "88c8e2b9",
   "metadata": {
    "execution": {
     "iopub.execute_input": "2024-10-09T19:02:05.168716Z",
     "iopub.status.busy": "2024-10-09T19:02:05.168246Z",
     "iopub.status.idle": "2024-10-09T19:02:06.015496Z",
     "shell.execute_reply": "2024-10-09T19:02:06.014349Z"
    },
    "papermill": {
     "duration": 0.861756,
     "end_time": "2024-10-09T19:02:06.017936",
     "exception": false,
     "start_time": "2024-10-09T19:02:05.156180",
     "status": "completed"
    },
    "tags": []
   },
   "outputs": [
    {
     "data": {
      "text/plain": [
       "array([1.00000000e+00, 4.27759666e-10, 9.99999490e-01, ...,\n",
       "       1.83045767e-13, 7.32819311e-03, 9.99999996e-01])"
      ]
     },
     "execution_count": 17,
     "metadata": {},
     "output_type": "execute_result"
    }
   ],
   "source": [
    "test_preds = model1.predict_proba(X_test)[:, 1]\n",
    "test_preds"
   ]
  },
  {
   "cell_type": "code",
   "execution_count": 18,
   "id": "905be294",
   "metadata": {
    "execution": {
     "iopub.execute_input": "2024-10-09T19:02:06.042099Z",
     "iopub.status.busy": "2024-10-09T19:02:06.041690Z",
     "iopub.status.idle": "2024-10-09T19:02:06.113570Z",
     "shell.execute_reply": "2024-10-09T19:02:06.112644Z"
    },
    "papermill": {
     "duration": 0.08732,
     "end_time": "2024-10-09T19:02:06.116407",
     "exception": false,
     "start_time": "2024-10-09T19:02:06.029087",
     "status": "completed"
    },
    "tags": []
   },
   "outputs": [],
   "source": [
    "id = pd.read_csv('/kaggle/input/playground-series-s4e10/test.csv')"
   ]
  },
  {
   "cell_type": "code",
   "execution_count": 19,
   "id": "2283e545",
   "metadata": {
    "execution": {
     "iopub.execute_input": "2024-10-09T19:02:06.141128Z",
     "iopub.status.busy": "2024-10-09T19:02:06.140278Z",
     "iopub.status.idle": "2024-10-09T19:02:06.152447Z",
     "shell.execute_reply": "2024-10-09T19:02:06.151351Z"
    },
    "papermill": {
     "duration": 0.027026,
     "end_time": "2024-10-09T19:02:06.154687",
     "exception": false,
     "start_time": "2024-10-09T19:02:06.127661",
     "status": "completed"
    },
    "tags": []
   },
   "outputs": [
    {
     "data": {
      "text/html": [
       "<div>\n",
       "<style scoped>\n",
       "    .dataframe tbody tr th:only-of-type {\n",
       "        vertical-align: middle;\n",
       "    }\n",
       "\n",
       "    .dataframe tbody tr th {\n",
       "        vertical-align: top;\n",
       "    }\n",
       "\n",
       "    .dataframe thead th {\n",
       "        text-align: right;\n",
       "    }\n",
       "</style>\n",
       "<table border=\"1\" class=\"dataframe\">\n",
       "  <thead>\n",
       "    <tr style=\"text-align: right;\">\n",
       "      <th></th>\n",
       "      <th>id</th>\n",
       "      <th>loan_status</th>\n",
       "    </tr>\n",
       "  </thead>\n",
       "  <tbody>\n",
       "    <tr>\n",
       "      <th>0</th>\n",
       "      <td>58645</td>\n",
       "      <td>1.000000e+00</td>\n",
       "    </tr>\n",
       "    <tr>\n",
       "      <th>1</th>\n",
       "      <td>58646</td>\n",
       "      <td>4.277597e-10</td>\n",
       "    </tr>\n",
       "    <tr>\n",
       "      <th>2</th>\n",
       "      <td>58647</td>\n",
       "      <td>9.999995e-01</td>\n",
       "    </tr>\n",
       "    <tr>\n",
       "      <th>3</th>\n",
       "      <td>58648</td>\n",
       "      <td>1.257658e-09</td>\n",
       "    </tr>\n",
       "    <tr>\n",
       "      <th>4</th>\n",
       "      <td>58649</td>\n",
       "      <td>1.777696e-07</td>\n",
       "    </tr>\n",
       "  </tbody>\n",
       "</table>\n",
       "</div>"
      ],
      "text/plain": [
       "      id   loan_status\n",
       "0  58645  1.000000e+00\n",
       "1  58646  4.277597e-10\n",
       "2  58647  9.999995e-01\n",
       "3  58648  1.257658e-09\n",
       "4  58649  1.777696e-07"
      ]
     },
     "execution_count": 19,
     "metadata": {},
     "output_type": "execute_result"
    }
   ],
   "source": [
    "gbm_df = pd.DataFrame({'id': id['id'], 'loan_status':test_preds })\n",
    "\n",
    "# Display the first few rows of the dataframe\n",
    "gbm_df.head()"
   ]
  },
  {
   "cell_type": "code",
   "execution_count": 20,
   "id": "b93496de",
   "metadata": {
    "execution": {
     "iopub.execute_input": "2024-10-09T19:02:06.179855Z",
     "iopub.status.busy": "2024-10-09T19:02:06.179114Z",
     "iopub.status.idle": "2024-10-09T19:02:06.320947Z",
     "shell.execute_reply": "2024-10-09T19:02:06.319992Z"
    },
    "papermill": {
     "duration": 0.157308,
     "end_time": "2024-10-09T19:02:06.323585",
     "exception": false,
     "start_time": "2024-10-09T19:02:06.166277",
     "status": "completed"
    },
    "tags": []
   },
   "outputs": [],
   "source": [
    "gbm_df.to_csv('first_sub.csv', index=False)"
   ]
  },
  {
   "cell_type": "code",
   "execution_count": null,
   "id": "65a202ca",
   "metadata": {
    "papermill": {
     "duration": 0.01133,
     "end_time": "2024-10-09T19:02:06.346509",
     "exception": false,
     "start_time": "2024-10-09T19:02:06.335179",
     "status": "completed"
    },
    "tags": []
   },
   "outputs": [],
   "source": []
  }
 ],
 "metadata": {
  "kaggle": {
   "accelerator": "none",
   "dataSources": [
    {
     "databundleVersionId": 9709193,
     "sourceId": 84894,
     "sourceType": "competition"
    }
   ],
   "dockerImageVersionId": 30786,
   "isGpuEnabled": false,
   "isInternetEnabled": false,
   "language": "python",
   "sourceType": "notebook"
  },
  "kernelspec": {
   "display_name": "Python 3",
   "language": "python",
   "name": "python3"
  },
  "language_info": {
   "codemirror_mode": {
    "name": "ipython",
    "version": 3
   },
   "file_extension": ".py",
   "mimetype": "text/x-python",
   "name": "python",
   "nbconvert_exporter": "python",
   "pygments_lexer": "ipython3",
   "version": "3.10.14"
  },
  "papermill": {
   "default_parameters": {},
   "duration": 138.782832,
   "end_time": "2024-10-09T19:02:07.079710",
   "environment_variables": {},
   "exception": null,
   "input_path": "__notebook__.ipynb",
   "output_path": "__notebook__.ipynb",
   "parameters": {},
   "start_time": "2024-10-09T18:59:48.296878",
   "version": "2.6.0"
  }
 },
 "nbformat": 4,
 "nbformat_minor": 5
}
